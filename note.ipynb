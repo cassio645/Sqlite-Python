{
 "cells": [
  {
   "cell_type": "markdown",
   "metadata": {},
   "source": [
    "### Curso Sql com Python\n",
    "\n",
    "Usando Sqlite3 por já vir instalado com Python.<br>\n",
    "Criar um banco de dados Sql e usar o python para fazer a conexão;<br>\n",
    "Digitando scripts em Python com as query Sql.<br>"
   ]
  },
  {
   "cell_type": "code",
   "execution_count": 2,
   "metadata": {},
   "outputs": [],
   "source": [
    "# importando a biblioteca do sqlite\n",
    "import sqlite3"
   ]
  },
  {
   "cell_type": "code",
   "execution_count": 4,
   "metadata": {},
   "outputs": [],
   "source": [
    "# Criando a base de dados e o cursor\n",
    "Conexao = sqlite3.connect(\"Banco_Dados.sqlite3\")\n",
    "Cursor = Conexao.cursor()"
   ]
  },
  {
   "cell_type": "markdown",
   "metadata": {},
   "source": [
    "### 1 - CREATE TABLE\n",
    "CREATE TABLE table_name(column1 datatype, column2 datatype...)<br>\n",
    "Devemos passar os nomes das colunas, e o tipo dos dados que a coluna pode conter.<br>\n",
    "EX: varchar, integer, date..."
   ]
  },
  {
   "cell_type": "code",
   "execution_count": 5,
   "metadata": {},
   "outputs": [],
   "source": [
    "# Criando uma tabela\n",
    "Cursor.execute(\n",
    "    'CREATE TABLE MinhaTabela(Data text, Nome text, Idade real)'\n",
    ")\n",
    "\n",
    "# Usando a conexão para fazer o commit\n",
    "Conexao.commit()\n"
   ]
  },
  {
   "cell_type": "markdown",
   "metadata": {},
   "source": []
  },
  {
   "cell_type": "code",
   "execution_count": null,
   "metadata": {},
   "outputs": [],
   "source": []
  }
 ],
 "metadata": {
  "kernelspec": {
   "display_name": "Python 3.10.6 64-bit",
   "language": "python",
   "name": "python3"
  },
  "language_info": {
   "codemirror_mode": {
    "name": "ipython",
    "version": 3
   },
   "file_extension": ".py",
   "mimetype": "text/x-python",
   "name": "python",
   "nbconvert_exporter": "python",
   "pygments_lexer": "ipython3",
   "version": "3.10.6"
  },
  "orig_nbformat": 4,
  "vscode": {
   "interpreter": {
    "hash": "916dbcbb3f70747c44a77c7bcd40155683ae19c65e1c03b4aa3499c5328201f1"
   }
  }
 },
 "nbformat": 4,
 "nbformat_minor": 2
}
